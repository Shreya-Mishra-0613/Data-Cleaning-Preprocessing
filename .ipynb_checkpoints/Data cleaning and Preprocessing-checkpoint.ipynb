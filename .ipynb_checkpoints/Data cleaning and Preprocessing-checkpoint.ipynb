{
 "cells": [
  {
   "cell_type": "code",
   "execution_count": 1,
   "id": "1126e415-0052-4df6-92ba-a76370a97e8e",
   "metadata": {},
   "outputs": [],
   "source": [
    "import pandas as pd\n",
    "import numpy as np\n",
    "import matplotlib.pyplot as plt\n",
    "import seaborn as sns\n",
    "from sklearn.preprocessing import OneHotEncoder"
   ]
  },
  {
   "cell_type": "code",
   "execution_count": 2,
   "id": "f93b66ca-8df6-477d-bfae-90455ec9c84a",
   "metadata": {},
   "outputs": [],
   "source": [
    "df = pd.read_csv('heart.csv')"
   ]
  },
  {
   "cell_type": "code",
   "execution_count": 3,
   "id": "9711f97d-1f89-4c27-8106-f84da8e4a8c1",
   "metadata": {},
   "outputs": [
    {
     "data": {
      "text/html": [
       "<div>\n",
       "<style scoped>\n",
       "    .dataframe tbody tr th:only-of-type {\n",
       "        vertical-align: middle;\n",
       "    }\n",
       "\n",
       "    .dataframe tbody tr th {\n",
       "        vertical-align: top;\n",
       "    }\n",
       "\n",
       "    .dataframe thead th {\n",
       "        text-align: right;\n",
       "    }\n",
       "</style>\n",
       "<table border=\"1\" class=\"dataframe\">\n",
       "  <thead>\n",
       "    <tr style=\"text-align: right;\">\n",
       "      <th></th>\n",
       "      <th>Age</th>\n",
       "      <th>Sex</th>\n",
       "      <th>ChestPainType</th>\n",
       "      <th>RestingBP</th>\n",
       "      <th>Cholesterol</th>\n",
       "      <th>FastingBS</th>\n",
       "      <th>RestingECG</th>\n",
       "      <th>MaxHR</th>\n",
       "      <th>ExerciseAngina</th>\n",
       "      <th>Oldpeak</th>\n",
       "      <th>ST_Slope</th>\n",
       "      <th>HeartDisease</th>\n",
       "    </tr>\n",
       "  </thead>\n",
       "  <tbody>\n",
       "    <tr>\n",
       "      <th>546</th>\n",
       "      <td>48</td>\n",
       "      <td>M</td>\n",
       "      <td>NAP</td>\n",
       "      <td>132</td>\n",
       "      <td>220</td>\n",
       "      <td>1</td>\n",
       "      <td>ST</td>\n",
       "      <td>162</td>\n",
       "      <td>N</td>\n",
       "      <td>0.0</td>\n",
       "      <td>Flat</td>\n",
       "      <td>1</td>\n",
       "    </tr>\n",
       "    <tr>\n",
       "      <th>867</th>\n",
       "      <td>44</td>\n",
       "      <td>M</td>\n",
       "      <td>ASY</td>\n",
       "      <td>112</td>\n",
       "      <td>290</td>\n",
       "      <td>0</td>\n",
       "      <td>LVH</td>\n",
       "      <td>153</td>\n",
       "      <td>N</td>\n",
       "      <td>0.0</td>\n",
       "      <td>Up</td>\n",
       "      <td>1</td>\n",
       "    </tr>\n",
       "    <tr>\n",
       "      <th>168</th>\n",
       "      <td>58</td>\n",
       "      <td>M</td>\n",
       "      <td>ASY</td>\n",
       "      <td>135</td>\n",
       "      <td>222</td>\n",
       "      <td>0</td>\n",
       "      <td>Normal</td>\n",
       "      <td>100</td>\n",
       "      <td>N</td>\n",
       "      <td>0.0</td>\n",
       "      <td>Up</td>\n",
       "      <td>0</td>\n",
       "    </tr>\n",
       "    <tr>\n",
       "      <th>131</th>\n",
       "      <td>46</td>\n",
       "      <td>M</td>\n",
       "      <td>ASY</td>\n",
       "      <td>110</td>\n",
       "      <td>202</td>\n",
       "      <td>0</td>\n",
       "      <td>Normal</td>\n",
       "      <td>150</td>\n",
       "      <td>Y</td>\n",
       "      <td>0.0</td>\n",
       "      <td>Flat</td>\n",
       "      <td>1</td>\n",
       "    </tr>\n",
       "    <tr>\n",
       "      <th>395</th>\n",
       "      <td>38</td>\n",
       "      <td>M</td>\n",
       "      <td>ASY</td>\n",
       "      <td>135</td>\n",
       "      <td>0</td>\n",
       "      <td>1</td>\n",
       "      <td>Normal</td>\n",
       "      <td>150</td>\n",
       "      <td>N</td>\n",
       "      <td>0.0</td>\n",
       "      <td>Flat</td>\n",
       "      <td>1</td>\n",
       "    </tr>\n",
       "  </tbody>\n",
       "</table>\n",
       "</div>"
      ],
      "text/plain": [
       "     Age Sex ChestPainType  RestingBP  Cholesterol  FastingBS RestingECG  \\\n",
       "546   48   M           NAP        132          220          1         ST   \n",
       "867   44   M           ASY        112          290          0        LVH   \n",
       "168   58   M           ASY        135          222          0     Normal   \n",
       "131   46   M           ASY        110          202          0     Normal   \n",
       "395   38   M           ASY        135            0          1     Normal   \n",
       "\n",
       "     MaxHR ExerciseAngina  Oldpeak ST_Slope  HeartDisease  \n",
       "546    162              N      0.0     Flat             1  \n",
       "867    153              N      0.0       Up             1  \n",
       "168    100              N      0.0       Up             0  \n",
       "131    150              Y      0.0     Flat             1  \n",
       "395    150              N      0.0     Flat             1  "
      ]
     },
     "execution_count": 3,
     "metadata": {},
     "output_type": "execute_result"
    }
   ],
   "source": [
    "df.sample(5)"
   ]
  },
  {
   "cell_type": "markdown",
   "id": "3e4cf4f5-86ef-4930-8eb5-b39506d3dbe4",
   "metadata": {},
   "source": [
    "- Cardiovascular diseases (CVDs) are the number 1 cause of death globally, taking an estimated 17.9 million lives each year, which accounts for 31% of all deaths worldwide. Four out of 5CVD deaths are due to heart attacks and strokes, and one-third of these deaths occur prematurely in people under 70 years of age"
   ]
  },
  {
   "cell_type": "markdown",
   "id": "f7bbb95b-250b-4ed6-9b17-139f53cf763f",
   "metadata": {},
   "source": [
    "### Attribute Information\n",
    "- Age: age of the patient (in yeara)\n",
    "- Sex: sex of the patient (M: Male, F: Female)\n",
    "- ChestPainType: chest pain type (TA: Typical Angina, ATA: Atypical Angina, NAP: Non-Anginal Pain, ASY: Asymptomatic)\n",
    "- RestingBP: resting blood pressure (in mm Hg)\n",
    "- Cholesterol: serum cholesterol (in mm/dl)\n",
    "- FastingBS: fasting blood sugar (1: if FastingBS > 120 mg/dl, 0: otherwise)\n",
    "- RestingECG: resting electrocardiogram results (Normal: Normal, ST: having ST-T wave abnormality (T wave inversions and/or ST elevation or depression of > 0.05 mV), LVH: showing probable or definite left ventricular hypertrophy by Estes' criteria)\n",
    "- MaxHR: maximum heart rate achieved\n",
    "- ExerciseAngina: exercise-induced angina (Y: Yes, N: No)\n",
    "- Oldpeak: oldpeak = ST (Numeric value measured in depression)\n",
    "- ST_Slope: the slope of the peak exercise ST segment (Up: upsloping, Flat: flat, Down: downsloping)\n",
    "- HeartDisease: output class (1: heart disease, 0: Normal)"
   ]
  },
  {
   "cell_type": "code",
   "execution_count": 4,
   "id": "022b87e5-9a70-4e8c-8925-77694d68a2f2",
   "metadata": {},
   "outputs": [
    {
     "data": {
      "text/plain": [
       "(918, 12)"
      ]
     },
     "execution_count": 4,
     "metadata": {},
     "output_type": "execute_result"
    }
   ],
   "source": [
    "df.shape"
   ]
  },
  {
   "cell_type": "markdown",
   "id": "0ba0a508-4878-4b0e-9504-919b6509b2ae",
   "metadata": {},
   "source": [
    "No. of Rows: 918  \n",
    "No. of Columns: 12"
   ]
  },
  {
   "cell_type": "code",
   "execution_count": 5,
   "id": "57b7b064-c540-4c76-aa2a-ed1084c677c3",
   "metadata": {},
   "outputs": [
    {
     "name": "stdout",
     "output_type": "stream",
     "text": [
      "<class 'pandas.core.frame.DataFrame'>\n",
      "RangeIndex: 918 entries, 0 to 917\n",
      "Data columns (total 12 columns):\n",
      " #   Column          Non-Null Count  Dtype  \n",
      "---  ------          --------------  -----  \n",
      " 0   Age             918 non-null    int64  \n",
      " 1   Sex             918 non-null    object \n",
      " 2   ChestPainType   918 non-null    object \n",
      " 3   RestingBP       918 non-null    int64  \n",
      " 4   Cholesterol     918 non-null    int64  \n",
      " 5   FastingBS       918 non-null    int64  \n",
      " 6   RestingECG      918 non-null    object \n",
      " 7   MaxHR           918 non-null    int64  \n",
      " 8   ExerciseAngina  918 non-null    object \n",
      " 9   Oldpeak         918 non-null    float64\n",
      " 10  ST_Slope        918 non-null    object \n",
      " 11  HeartDisease    918 non-null    int64  \n",
      "dtypes: float64(1), int64(6), object(5)\n",
      "memory usage: 86.2+ KB\n"
     ]
    }
   ],
   "source": [
    "df.info()"
   ]
  },
  {
   "cell_type": "markdown",
   "id": "d9ef6950-d798-4953-8594-fee5ea241f29",
   "metadata": {},
   "source": [
    "##### Numerical columns: 7\n",
    "1) Age\n",
    "2) RestingBP\n",
    "3) Cholesterol\n",
    "4) FastingBS\n",
    "5) MaxHR\n",
    "6) Oldpeak\n",
    "7) HeartDisease (Target Variable)\n",
    "\n",
    "##### Categorical columns: 5\n",
    "1) Sex\n",
    "2) ChestPainType\n",
    "3) RestingECG\n",
    "4) ExerciseAngina\n",
    "5) ST_Slope"
   ]
  },
  {
   "cell_type": "code",
   "execution_count": 6,
   "id": "8fb19ea7-a3b1-40bb-b476-8e639f93a0fa",
   "metadata": {},
   "outputs": [
    {
     "data": {
      "text/plain": [
       "Age               0\n",
       "Sex               0\n",
       "ChestPainType     0\n",
       "RestingBP         0\n",
       "Cholesterol       0\n",
       "FastingBS         0\n",
       "RestingECG        0\n",
       "MaxHR             0\n",
       "ExerciseAngina    0\n",
       "Oldpeak           0\n",
       "ST_Slope          0\n",
       "HeartDisease      0\n",
       "dtype: int64"
      ]
     },
     "execution_count": 6,
     "metadata": {},
     "output_type": "execute_result"
    }
   ],
   "source": [
    "df.isnull().sum()"
   ]
  },
  {
   "cell_type": "markdown",
   "id": "7e996e54-5175-4633-87e5-6fc59498d158",
   "metadata": {},
   "source": [
    "##### No null values"
   ]
  },
  {
   "cell_type": "code",
   "execution_count": 7,
   "id": "5d3e0946-d5ab-49e5-b466-0fa0e16bd873",
   "metadata": {},
   "outputs": [
    {
     "data": {
      "text/html": [
       "<div>\n",
       "<style scoped>\n",
       "    .dataframe tbody tr th:only-of-type {\n",
       "        vertical-align: middle;\n",
       "    }\n",
       "\n",
       "    .dataframe tbody tr th {\n",
       "        vertical-align: top;\n",
       "    }\n",
       "\n",
       "    .dataframe thead th {\n",
       "        text-align: right;\n",
       "    }\n",
       "</style>\n",
       "<table border=\"1\" class=\"dataframe\">\n",
       "  <thead>\n",
       "    <tr style=\"text-align: right;\">\n",
       "      <th></th>\n",
       "      <th>Age</th>\n",
       "      <th>RestingBP</th>\n",
       "      <th>Cholesterol</th>\n",
       "      <th>FastingBS</th>\n",
       "      <th>MaxHR</th>\n",
       "      <th>Oldpeak</th>\n",
       "      <th>HeartDisease</th>\n",
       "    </tr>\n",
       "  </thead>\n",
       "  <tbody>\n",
       "    <tr>\n",
       "      <th>count</th>\n",
       "      <td>918.000000</td>\n",
       "      <td>918.000000</td>\n",
       "      <td>918.000000</td>\n",
       "      <td>918.000000</td>\n",
       "      <td>918.000000</td>\n",
       "      <td>918.000000</td>\n",
       "      <td>918.000000</td>\n",
       "    </tr>\n",
       "    <tr>\n",
       "      <th>mean</th>\n",
       "      <td>53.510893</td>\n",
       "      <td>132.396514</td>\n",
       "      <td>198.799564</td>\n",
       "      <td>0.233115</td>\n",
       "      <td>136.809368</td>\n",
       "      <td>0.887364</td>\n",
       "      <td>0.553377</td>\n",
       "    </tr>\n",
       "    <tr>\n",
       "      <th>std</th>\n",
       "      <td>9.432617</td>\n",
       "      <td>18.514154</td>\n",
       "      <td>109.384145</td>\n",
       "      <td>0.423046</td>\n",
       "      <td>25.460334</td>\n",
       "      <td>1.066570</td>\n",
       "      <td>0.497414</td>\n",
       "    </tr>\n",
       "    <tr>\n",
       "      <th>min</th>\n",
       "      <td>28.000000</td>\n",
       "      <td>0.000000</td>\n",
       "      <td>0.000000</td>\n",
       "      <td>0.000000</td>\n",
       "      <td>60.000000</td>\n",
       "      <td>-2.600000</td>\n",
       "      <td>0.000000</td>\n",
       "    </tr>\n",
       "    <tr>\n",
       "      <th>25%</th>\n",
       "      <td>47.000000</td>\n",
       "      <td>120.000000</td>\n",
       "      <td>173.250000</td>\n",
       "      <td>0.000000</td>\n",
       "      <td>120.000000</td>\n",
       "      <td>0.000000</td>\n",
       "      <td>0.000000</td>\n",
       "    </tr>\n",
       "    <tr>\n",
       "      <th>50%</th>\n",
       "      <td>54.000000</td>\n",
       "      <td>130.000000</td>\n",
       "      <td>223.000000</td>\n",
       "      <td>0.000000</td>\n",
       "      <td>138.000000</td>\n",
       "      <td>0.600000</td>\n",
       "      <td>1.000000</td>\n",
       "    </tr>\n",
       "    <tr>\n",
       "      <th>75%</th>\n",
       "      <td>60.000000</td>\n",
       "      <td>140.000000</td>\n",
       "      <td>267.000000</td>\n",
       "      <td>0.000000</td>\n",
       "      <td>156.000000</td>\n",
       "      <td>1.500000</td>\n",
       "      <td>1.000000</td>\n",
       "    </tr>\n",
       "    <tr>\n",
       "      <th>max</th>\n",
       "      <td>77.000000</td>\n",
       "      <td>200.000000</td>\n",
       "      <td>603.000000</td>\n",
       "      <td>1.000000</td>\n",
       "      <td>202.000000</td>\n",
       "      <td>6.200000</td>\n",
       "      <td>1.000000</td>\n",
       "    </tr>\n",
       "  </tbody>\n",
       "</table>\n",
       "</div>"
      ],
      "text/plain": [
       "              Age   RestingBP  Cholesterol   FastingBS       MaxHR  \\\n",
       "count  918.000000  918.000000   918.000000  918.000000  918.000000   \n",
       "mean    53.510893  132.396514   198.799564    0.233115  136.809368   \n",
       "std      9.432617   18.514154   109.384145    0.423046   25.460334   \n",
       "min     28.000000    0.000000     0.000000    0.000000   60.000000   \n",
       "25%     47.000000  120.000000   173.250000    0.000000  120.000000   \n",
       "50%     54.000000  130.000000   223.000000    0.000000  138.000000   \n",
       "75%     60.000000  140.000000   267.000000    0.000000  156.000000   \n",
       "max     77.000000  200.000000   603.000000    1.000000  202.000000   \n",
       "\n",
       "          Oldpeak  HeartDisease  \n",
       "count  918.000000    918.000000  \n",
       "mean     0.887364      0.553377  \n",
       "std      1.066570      0.497414  \n",
       "min     -2.600000      0.000000  \n",
       "25%      0.000000      0.000000  \n",
       "50%      0.600000      1.000000  \n",
       "75%      1.500000      1.000000  \n",
       "max      6.200000      1.000000  "
      ]
     },
     "execution_count": 7,
     "metadata": {},
     "output_type": "execute_result"
    }
   ],
   "source": [
    "df.describe()"
   ]
  },
  {
   "cell_type": "markdown",
   "id": "efbdee0e-40e5-4942-b0d0-7ce7a18cd899",
   "metadata": {},
   "source": [
    "## Detecting Outliers"
   ]
  },
  {
   "cell_type": "code",
   "execution_count": 8,
   "id": "b0b65bf4-a0d6-4e36-b93f-345cc11a55ad",
   "metadata": {
    "scrolled": true
   },
   "outputs": [
    {
     "data": {
      "image/png": "[encoded data removed]",
      "text/plain": [
       "<Figure size 600x400 with 1 Axes>"
      ]
     },
     "metadata": {},
     "output_type": "display_data"
    },
    {
     "data": {
      "image/png": "[encoded data removed]",
      "text/plain": [
       "<Figure size 600x400 with 1 Axes>"
      ]
     },
     "metadata": {},
     "output_type": "display_data"
    },
    {
     "data": {
      "image/png": "[encoded data removed]",
      "text/plain": [
       "<Figure size 600x400 with 1 Axes>"
      ]
     },
     "metadata": {},
     "output_type": "display_data"
    },
    {
     "data": {
      "image/png": "[encoded data removed]",
      "text/plain": [
       "<Figure size 600x400 with 1 Axes>"
      ]
     },
     "metadata": {},
     "output_type": "display_data"
    },
    {
     "data": {
      "image/png": "[encoded data removed]",
      "text/plain": [
       "<Figure size 600x400 with 1 Axes>"
      ]
     },
     "metadata": {},
     "output_type": "display_data"
    },
    {
     "data": {
      "image/png": "[encoded data removed]",
      "text/plain": [
       "<Figure size 600x400 with 1 Axes>"
      ]
     },
     "metadata": {},
     "output_type": "display_data"
    },
    {
     "data": {
      "image/png": "[encoded data removed]",
      "text/plain": [
       "<Figure size 600x400 with 1 Axes>"
      ]
     },
     "metadata": {},
     "output_type": "display_data"
    }
   ],
   "source": [
    "numerical_cols = df.select_dtypes(include='number').columns\n",
    "\n",
    "for col in numerical_cols:\n",
    "    plt.figure(figsize=(6, 4))\n",
    "    sns.boxplot(x=df[col])\n",
    "    plt.title(f'Boxplot of {col}')\n",
    "    plt.xlabel(col)\n",
    "    plt.grid(True)\n",
    "    plt.tight_layout()\n",
    "    plt.show()"
   ]
  },
  {
   "cell_type": "markdown",
   "id": "4bc0ca7d-fd86-4a64-b723-25bd9c84461c",
   "metadata": {},
   "source": [
    "## Outlier Handling"
   ]
  },
  {
   "cell_type": "code",
   "execution_count": 9,
   "id": "d30a0260-1a2f-48c0-879c-2d73b884ec64",
   "metadata": {},
   "outputs": [],
   "source": [
    "df = df[df['RestingBP'] > 0]  # Remove invalid BP\n",
    "df['RestingBP'] = df['RestingBP'].clip(upper=200)"
   ]
  },
  {
   "cell_type": "markdown",
   "id": "21e64e24-cf90-4c12-b933-aa7c6e11346c",
   "metadata": {},
   "source": [
    "##### Medical Insight\n",
    "- Normal BP: 90–120 mmHg\n",
    "- Hypertension: > 130 mmHg\n",
    "- < 80 or > 200 = suspect input error unless clinically valid"
   ]
  },
  {
   "cell_type": "code",
   "execution_count": 10,
   "id": "6e1c3c98-e203-46c1-b106-337bfd215ee3",
   "metadata": {},
   "outputs": [],
   "source": [
    "df = df[df['Cholesterol'] > 0]  # Remove invalid Cholesterol Level\n",
    "df['Cholesterol'] = df['Cholesterol'].clip(upper=500)"
   ]
  },
  {
   "cell_type": "markdown",
   "id": "924e7dff-3275-482d-bacc-436a09119be8",
   "metadata": {},
   "source": [
    "##### Medical Insight\n",
    "- Total cholesterol > 240 mg/dL is considered high.\n",
    "- Extremely high values (> 500) are rare but possible (familial hypercholesterolemia)."
   ]
  },
  {
   "cell_type": "code",
   "execution_count": 11,
   "id": "94e3c9c7-3f7c-46e6-97ec-4f9e3e28bd6d",
   "metadata": {},
   "outputs": [],
   "source": [
    "df['MaxHR_expected'] = 220 - df['Age'] ## Calculate expected MaxHR\n",
    "\n",
    "# Keep MaxHR in a 60%–110% range of expected\n",
    "df = df[\n",
    "    (df['MaxHR'] >= 0.6 * df['MaxHR_expected']) &\n",
    "    (df['MaxHR'] <= 1.1 * df['MaxHR_expected'])\n",
    "]\n",
    "\n",
    "df.drop(columns=['MaxHR_expected'], inplace=True)"
   ]
  },
  {
   "cell_type": "markdown",
   "id": "18e2b51f-8480-459b-a765-0b59d97a9ff2",
   "metadata": {},
   "source": [
    "##### Medical Insight\n",
    "- Actual MaxHR during stress tests is often ~60–85% of predicted MaxHR\n",
    "- For ischemic patients, reaching even 70% of MaxHR can be clinically sufficient\n",
    "- Failure to reach 85% of MaxHR is considered a sign of chronotropic incompetence"
   ]
  },
  {
   "cell_type": "code",
   "execution_count": 12,
   "id": "c98288b0-a04f-4c1d-8a97-dccdb7c2c273",
   "metadata": {},
   "outputs": [],
   "source": [
    "df['Oldpeak'] = df['Oldpeak'].clip(upper=5)"
   ]
  },
  {
   "cell_type": "markdown",
   "id": "39dbdc72-f3ab-453a-ba87-2abe3dc525e2",
   "metadata": {},
   "source": [
    "##### Medical Insight\n",
    "- Oldpeak refers to ST depression on ECG (in mm), induced by exercise relative to rest.\n",
    "- Normal: 0 mm\n",
    "- Mild-moderate ischemia: 1–2 mm\n",
    "- Severe ischemia: > 2 mm\n",
    "- Extremely rare to see > 5 mm"
   ]
  },
  {
   "cell_type": "code",
   "execution_count": 13,
   "id": "1d1b90b8-f55a-4e64-a8c2-16c97b99678d",
   "metadata": {},
   "outputs": [
    {
     "data": {
      "text/plain": [
       "(700, 12)"
      ]
     },
     "execution_count": 13,
     "metadata": {},
     "output_type": "execute_result"
    }
   ],
   "source": [
    "df.shape"
   ]
  },
  {
   "cell_type": "code",
   "execution_count": 14,
   "id": "dd4a8a51-d8e5-485b-baa2-cc0a6bba5ca2",
   "metadata": {},
   "outputs": [
    {
     "name": "stdout",
     "output_type": "stream",
     "text": [
      "<class 'pandas.core.frame.DataFrame'>\n",
      "Index: 700 entries, 0 to 917\n",
      "Data columns (total 12 columns):\n",
      " #   Column          Non-Null Count  Dtype  \n",
      "---  ------          --------------  -----  \n",
      " 0   Age             700 non-null    int64  \n",
      " 1   Sex             700 non-null    object \n",
      " 2   ChestPainType   700 non-null    object \n",
      " 3   RestingBP       700 non-null    int64  \n",
      " 4   Cholesterol     700 non-null    int64  \n",
      " 5   FastingBS       700 non-null    int64  \n",
      " 6   RestingECG      700 non-null    object \n",
      " 7   MaxHR           700 non-null    int64  \n",
      " 8   ExerciseAngina  700 non-null    object \n",
      " 9   Oldpeak         700 non-null    float64\n",
      " 10  ST_Slope        700 non-null    object \n",
      " 11  HeartDisease    700 non-null    int64  \n",
      "dtypes: float64(1), int64(6), object(5)\n",
      "memory usage: 71.1+ KB\n"
     ]
    }
   ],
   "source": [
    "df.info()"
   ]
  },
  {
   "cell_type": "markdown",
   "id": "e42db86e-d8f1-4f61-87bd-0b127ba3b0da",
   "metadata": {},
   "source": [
    "## Encoding"
   ]
  },
  {
   "cell_type": "markdown",
   "id": "57400e5f-2c63-4f3c-aed3-e09a453ab670",
   "metadata": {},
   "source": [
    "#### Categorical columns\n",
    "1) Sex\n",
    "2) ChestPainType\n",
    "3) RestingECG\n",
    "4) ExerciseAngina\n",
    "5) ST_Slope"
   ]
  },
  {
   "cell_type": "code",
   "execution_count": 15,
   "id": "87a66f8c-6f46-4240-a0fe-187ed74788d7",
   "metadata": {},
   "outputs": [
    {
     "data": {
      "text/plain": [
       "array(['M', 'F'], dtype=object)"
      ]
     },
     "execution_count": 15,
     "metadata": {},
     "output_type": "execute_result"
    }
   ],
   "source": [
    "df['Sex'].unique()"
   ]
  },
  {
   "cell_type": "markdown",
   "id": "eaaa0271-6b05-4d85-b4a4-b0825c287138",
   "metadata": {},
   "source": [
    "##### Label Encoding (Simple Binary)\n",
    "This replaces 'M' with 1 and 'F' with 0 (or vice versa)."
   ]
  },
  {
   "cell_type": "code",
   "execution_count": 16,
   "id": "bde05637-a0f1-4513-8da8-9246a3363d27",
   "metadata": {},
   "outputs": [],
   "source": [
    "df['Sex'] = df['Sex'].map({'M': 1, 'F': 0})"
   ]
  },
  {
   "cell_type": "code",
   "execution_count": 17,
   "id": "bbee1c35-d3eb-4c7a-a66b-e1bde2593fc4",
   "metadata": {},
   "outputs": [
    {
     "data": {
      "text/plain": [
       "array(['ATA', 'NAP', 'ASY', 'TA'], dtype=object)"
      ]
     },
     "execution_count": 17,
     "metadata": {},
     "output_type": "execute_result"
    }
   ],
   "source": [
    "df['ChestPainType'].unique()"
   ]
  },
  {
   "cell_type": "markdown",
   "id": "32e77ace-e175-4fe5-be23-8f7eceda8041",
   "metadata": {},
   "source": [
    "Chest pain types like ATA (Atypical Angina), NAP (Non-Anginal Pain), ASY (Asymptomatic), and TA (Typical Angina) are not considered ordinal.  \n",
    "They represent different categories of chest pain, rather than a ranked order of severity or intensity. \n",
    "##### One-Hot Encoding"
   ]
  },
  {
   "cell_type": "code",
   "execution_count": 18,
   "id": "a09c65ee-80b2-4b7f-8b1a-60e20da6e1e2",
   "metadata": {},
   "outputs": [],
   "source": [
    "# Strip whitespace and convert to uppercase (if needed)\n",
    "df['ChestPainType'] = df['ChestPainType'].str.strip().str.upper()\n"
   ]
  },
  {
   "cell_type": "code",
   "execution_count": 19,
   "id": "ea3cc01c-4d87-4c47-bfe9-861e31fee3a0",
   "metadata": {},
   "outputs": [],
   "source": [
    "# Set desired category order manually (NAP(least likely to be associated with CVDs) → will be dropped)\n",
    "encoder = OneHotEncoder(\n",
    "    categories=[['NAP', 'ATA', 'ASY', 'TA']],\n",
    "    drop='first',\n",
    "    sparse_output=False\n",
    ")\n",
    "\n",
    "# Fit and transform\n",
    "encoded = encoder.fit_transform(df[['ChestPainType']])\n",
    "encoded_df = pd.DataFrame(\n",
    "    encoded,\n",
    "    columns=encoder.get_feature_names_out(['ChestPainType']),\n",
    "    index=df.index  \n",
    ")\n",
    "\n",
    "\n",
    "# Combine\n",
    "df = pd.concat([df.drop('ChestPainType', axis=1), encoded_df], axis=1)"
   ]
  },
  {
   "cell_type": "code",
   "execution_count": null,
   "id": "d6e873fe-e73d-4963-aabb-5e069bd601a3",
   "metadata": {},
   "outputs": [],
   "source": []
  }
 ],
 "metadata": {
  "kernelspec": {
   "display_name": "Python 3 (ipykernel)",
   "language": "python",
   "name": "python3"
  },
  "language_info": {
   "codemirror_mode": {
    "name": "ipython",
    "version": 3
   },
   "file_extension": ".py",
   "mimetype": "text/x-python",
   "name": "python",
   "nbconvert_exporter": "python",
   "pygments_lexer": "ipython3",
   "version": "3.11.3"
  }
 },
 "nbformat": 4,
 "nbformat_minor": 5
}
